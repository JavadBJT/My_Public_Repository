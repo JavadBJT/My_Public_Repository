{
  "nbformat": 4,
  "nbformat_minor": 0,
  "metadata": {
    "colab": {
      "provenance": [],
      "authorship_tag": "ABX9TyMBYUiXkzJHk6foJkaljH3P",
      "include_colab_link": true
    },
    "kernelspec": {
      "name": "python3",
      "display_name": "Python 3"
    },
    "language_info": {
      "name": "python"
    }
  },
  "cells": [
    {
      "cell_type": "markdown",
      "metadata": {
        "id": "view-in-github",
        "colab_type": "text"
      },
      "source": [
        "<a href=\"https://colab.research.google.com/github/JavadBJT/My_Public_Repository/blob/main/remove_consecutive_repetitive_words_V2.ipynb\" target=\"_parent\"><img src=\"https://colab.research.google.com/assets/colab-badge.svg\" alt=\"Open In Colab\"/></a>"
      ]
    },
    {
      "cell_type": "code",
      "execution_count": 37,
      "metadata": {
        "id": "tJmTlAND5vcP"
      },
      "outputs": [],
      "source": [
        "\n",
        "\n",
        "################################Libraries#############################\n",
        "import spacy\n",
        "nlp = spacy.load('en_core_web_sm')\n",
        "\n",
        "#################################Setting############################\n",
        "Discourse_Pharases = [\"you know \", \"I mean \", \"I think \", \"I guess\"]\n",
        "Affirmation_Words = [\"yeh\", \"uhum\", \"yep\", \"well\", \"like\",\"uh-huh\"]\n",
        "\n",
        "############################Functions################################\n",
        "def remove_Affirmative_repetitive_words(Affirmation_Words,text):\n",
        "    words = text.split()\n",
        "    #########################Remove Affirmative #####################\n",
        "    words = [word for word in words if word not in Affirmation_Words]\n",
        "    #########################Remove repeatative #####################\n",
        "    new_words = []\n",
        "    prev_word = None\n",
        "    for word in words:\n",
        "        if word != prev_word:\n",
        "            new_words.append(word)\n",
        "            prev_word = word\n",
        "    return ' '.join(new_words)\n",
        "######################################################################\n",
        "def remove_consecutive_duplicate_phrases(text):\n",
        "    words = text.split()\n",
        "    cleaned_words = []\n",
        "    i = 0\n",
        "    while i < len(words) - 3:\n",
        "        # Compare two consecutive phrases\n",
        "        if words[i] + \" \" + words[i+1] == words[i+2] + \" \" + words[i+3]:\n",
        "            cleaned_words.extend([words[i], words[i+1]])\n",
        "            i += 4\n",
        "        else:\n",
        "            cleaned_words.append(words[i])\n",
        "            i += 1\n",
        "    # Append remaining words\n",
        "    cleaned_words.extend(words[i:])\n",
        "    return ' '.join(cleaned_words)\n",
        "#######################################################################\n",
        "def remove_redundant_phrases(text,phrases_to_remove):\n",
        "    # Parse the text with SpaCy\n",
        "    #with open(\"/content/input.txt\", \"r\") as input_file:\n",
        "    #    text = input_file.read()\n",
        "    doc = nlp(text)\n",
        "    \n",
        "    # Loop over sentences\n",
        "    output = []\n",
        "    for sent in doc.sents:\n",
        "        sent_text = sent.text\n",
        "        # Remove undesired phrases in each sentence\n",
        "        for phrase in phrases_to_remove:\n",
        "            sent_text = sent_text.replace(phrase, '')\n",
        "        output.append(sent_text.strip())\n",
        "        \n",
        "    return ' '.join(output)\n",
        "\n",
        "###############Main#############################################\n",
        "\n",
        "with open(\"/content/input.txt\", \"r\") as input_file:\n",
        "    input_text = input_file.read()\n",
        "output_text = remove_Affirmative_repetitive_words(Affirmation_Words,input_text)\n",
        "output_text = remove_consecutive_duplicate_phrases(output_text)\n",
        "cleaned_text = remove_redundant_phrases(output_text,Discourse_Pharases)\n",
        "\n",
        "\n",
        "with open(\"/content/output.txt\", \"w\") as output_file:\n",
        "    output_file.write(cleaned_text)\n"
      ]
    },
    {
      "cell_type": "code",
      "source": [
        "def remove_consecutive_duplicate_phrases(text):\n",
        "    words = text.split()\n",
        "    cleaned_words = []\n",
        "\n",
        "    i = 0\n",
        "    while i < len(words) - 2:\n",
        "        # Compare two consecutive phrases\n",
        "        if words[i] + \" \" + words[i+1] == words[i+2] + \" \" + words[i+3]:\n",
        "            cleaned_words.extend([words[i], words[i+1]])\n",
        "            i += 4\n",
        "        else:\n",
        "            cleaned_words.append(words[i])\n",
        "            i += 1\n",
        "\n",
        "    # Append remaining words\n",
        "    cleaned_words.extend(words[i:])\n",
        "\n",
        "    return ' '.join(cleaned_words)\n",
        "\n",
        "# Example usage\n",
        "text = \"I am I am happy you are you are here son son\"\n",
        "cleaned_text = remove_consecutive_duplicate_phrases(text)\n",
        "print(cleaned_text)  # Prints: \"I am happy you are here\"\n"
      ],
      "metadata": {
        "colab": {
          "base_uri": "https://localhost:8080/",
          "height": 346
        },
        "id": "noBXyGj0MQHa",
        "outputId": "b1b72f70-df41-4543-e543-f476222b2071"
      },
      "execution_count": 19,
      "outputs": [
        {
          "output_type": "error",
          "ename": "IndexError",
          "evalue": "ignored",
          "traceback": [
            "\u001b[0;31m---------------------------------------------------------------------------\u001b[0m",
            "\u001b[0;31mIndexError\u001b[0m                                Traceback (most recent call last)",
            "\u001b[0;32m<ipython-input-19-5594ff9bb4e7>\u001b[0m in \u001b[0;36m<cell line: 22>\u001b[0;34m()\u001b[0m\n\u001b[1;32m     20\u001b[0m \u001b[0;31m# Example usage\u001b[0m\u001b[0;34m\u001b[0m\u001b[0;34m\u001b[0m\u001b[0m\n\u001b[1;32m     21\u001b[0m \u001b[0mtext\u001b[0m \u001b[0;34m=\u001b[0m \u001b[0;34m\"I am I am happy you are you are here son son\"\u001b[0m\u001b[0;34m\u001b[0m\u001b[0;34m\u001b[0m\u001b[0m\n\u001b[0;32m---> 22\u001b[0;31m \u001b[0mcleaned_text\u001b[0m \u001b[0;34m=\u001b[0m \u001b[0mremove_consecutive_duplicate_phrases\u001b[0m\u001b[0;34m(\u001b[0m\u001b[0mtext\u001b[0m\u001b[0;34m)\u001b[0m\u001b[0;34m\u001b[0m\u001b[0;34m\u001b[0m\u001b[0m\n\u001b[0m\u001b[1;32m     23\u001b[0m \u001b[0mprint\u001b[0m\u001b[0;34m(\u001b[0m\u001b[0mcleaned_text\u001b[0m\u001b[0;34m)\u001b[0m  \u001b[0;31m# Prints: \"I am happy you are here\"\u001b[0m\u001b[0;34m\u001b[0m\u001b[0;34m\u001b[0m\u001b[0m\n",
            "\u001b[0;32m<ipython-input-19-5594ff9bb4e7>\u001b[0m in \u001b[0;36mremove_consecutive_duplicate_phrases\u001b[0;34m(text)\u001b[0m\n\u001b[1;32m      6\u001b[0m     \u001b[0;32mwhile\u001b[0m \u001b[0mi\u001b[0m \u001b[0;34m<\u001b[0m \u001b[0mlen\u001b[0m\u001b[0;34m(\u001b[0m\u001b[0mwords\u001b[0m\u001b[0;34m)\u001b[0m \u001b[0;34m-\u001b[0m \u001b[0;36m2\u001b[0m\u001b[0;34m:\u001b[0m\u001b[0;34m\u001b[0m\u001b[0;34m\u001b[0m\u001b[0m\n\u001b[1;32m      7\u001b[0m         \u001b[0;31m# Compare two consecutive phrases\u001b[0m\u001b[0;34m\u001b[0m\u001b[0;34m\u001b[0m\u001b[0m\n\u001b[0;32m----> 8\u001b[0;31m         \u001b[0;32mif\u001b[0m \u001b[0mwords\u001b[0m\u001b[0;34m[\u001b[0m\u001b[0mi\u001b[0m\u001b[0;34m]\u001b[0m \u001b[0;34m+\u001b[0m \u001b[0;34m\" \"\u001b[0m \u001b[0;34m+\u001b[0m \u001b[0mwords\u001b[0m\u001b[0;34m[\u001b[0m\u001b[0mi\u001b[0m\u001b[0;34m+\u001b[0m\u001b[0;36m1\u001b[0m\u001b[0;34m]\u001b[0m \u001b[0;34m==\u001b[0m \u001b[0mwords\u001b[0m\u001b[0;34m[\u001b[0m\u001b[0mi\u001b[0m\u001b[0;34m+\u001b[0m\u001b[0;36m2\u001b[0m\u001b[0;34m]\u001b[0m \u001b[0;34m+\u001b[0m \u001b[0;34m\" \"\u001b[0m \u001b[0;34m+\u001b[0m \u001b[0mwords\u001b[0m\u001b[0;34m[\u001b[0m\u001b[0mi\u001b[0m\u001b[0;34m+\u001b[0m\u001b[0;36m3\u001b[0m\u001b[0;34m]\u001b[0m\u001b[0;34m:\u001b[0m\u001b[0;34m\u001b[0m\u001b[0;34m\u001b[0m\u001b[0m\n\u001b[0m\u001b[1;32m      9\u001b[0m             \u001b[0mcleaned_words\u001b[0m\u001b[0;34m.\u001b[0m\u001b[0mextend\u001b[0m\u001b[0;34m(\u001b[0m\u001b[0;34m[\u001b[0m\u001b[0mwords\u001b[0m\u001b[0;34m[\u001b[0m\u001b[0mi\u001b[0m\u001b[0;34m]\u001b[0m\u001b[0;34m,\u001b[0m \u001b[0mwords\u001b[0m\u001b[0;34m[\u001b[0m\u001b[0mi\u001b[0m\u001b[0;34m+\u001b[0m\u001b[0;36m1\u001b[0m\u001b[0;34m]\u001b[0m\u001b[0;34m]\u001b[0m\u001b[0;34m)\u001b[0m\u001b[0;34m\u001b[0m\u001b[0;34m\u001b[0m\u001b[0m\n\u001b[1;32m     10\u001b[0m             \u001b[0mi\u001b[0m \u001b[0;34m+=\u001b[0m \u001b[0;36m4\u001b[0m\u001b[0;34m\u001b[0m\u001b[0;34m\u001b[0m\u001b[0m\n",
            "\u001b[0;31mIndexError\u001b[0m: list index out of range"
          ]
        }
      ]
    },
    {
      "cell_type": "code",
      "source": [
        "def remove_consecutive_duplicate_phrases(text):\n",
        "    words = text.split()\n",
        "    cleaned_words = []\n",
        "    i = 0\n",
        "    while i < len(words) - 3:\n",
        "        # Compare two consecutive phrases\n",
        "        if words[i] + \" \" + words[i+1] == words[i+2] + \" \" + words[i+3]:\n",
        "            cleaned_words.extend([words[i], words[i+1]])\n",
        "            i += 4\n",
        "        else:\n",
        "            cleaned_words.append(words[i])\n",
        "            i += 1\n",
        "    # Append remaining words\n",
        "    cleaned_words.extend(words[i:])\n",
        "    return ' '.join(cleaned_words)\n",
        "\n",
        "\n",
        "test_cases = \"I am I am happy you are you are here on on yes yes I can I can\"\n",
        "output_text = remove_consecutive_duplicate_phrases(test_cases)\n",
        "print(output_text)\n",
        "\n",
        "\n"
      ],
      "metadata": {
        "colab": {
          "base_uri": "https://localhost:8080/"
        },
        "id": "VHZovexNNHm6",
        "outputId": "f3a478ee-df47-4eb8-8603-348345c992da"
      },
      "execution_count": 33,
      "outputs": [
        {
          "output_type": "stream",
          "name": "stdout",
          "text": [
            "I am happy you are here on on yes yes I can\n"
          ]
        }
      ]
    },
    {
      "cell_type": "markdown",
      "source": [],
      "metadata": {
        "id": "uaKIkrdyBx9D"
      }
    }
  ]
}